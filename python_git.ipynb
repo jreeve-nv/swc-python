{
 "cells": [
  {
   "cell_type": "markdown",
   "metadata": {},
   "source": [
    "# Workflows with Python and Git\n",
    "https://carpentries-incubator.github.io/swc-ext-python/\n",
    "\n",
    "Using gapminder dataset"
   ]
  },
  {
   "cell_type": "markdown",
   "metadata": {},
   "source": [
    "## Review exercise"
   ]
  },
  {
   "cell_type": "code",
   "execution_count": 2,
   "metadata": {},
   "outputs": [
    {
     "name": "stdout",
     "output_type": "stream",
     "text": [
      "1928 is a leap year\n",
      "1950 is not a leap year\n",
      "1959 is not a leap year\n",
      "1972 is a leap year\n",
      "1990 is not a leap year\n"
     ]
    }
   ],
   "source": [
    "years = [1928, 1950, 1959, 1972, 1990]\n",
    "\n",
    "def leap_year(years):\n",
    "    for year in years:\n",
    "        if year % 4 == 0:\n",
    "            print(year, \"is a leap year\")\n",
    "        elif year % 4 != 0:\n",
    "            print(year, \"is not a leap year\")\n",
    "\n",
    "leap_year(years)"
   ]
  },
  {
   "cell_type": "markdown",
   "metadata": {},
   "source": [
    "## Command-line programs\n",
    "Running this stuff via separate scripts and command line. Which works better when the terminal actually shows the plot outputs."
   ]
  },
  {
   "cell_type": "markdown",
   "metadata": {},
   "source": [
    "## trying different methods\n",
    "Try two approaches to handling multiple files: with python or with bash.\n",
    "\n",
    "Adding plot saving so we can see the results when running in bash: just swap out `plt.show()` for `plt.savefig(save_name)`\n",
    "\n",
    "With python:\n",
    "Add for loop in the python script that takes as many arguments as we provide.\n",
    "\n",
    "With bash:\n",
    "write `.sh` script to loop over our python script\n",
    "\n",
    "So which method is better? Well we can use `time bash gdp_plots.sh` and `time python gdp_plots.py data/gapminder_gdp_oceania.csv data/gapminder_gdp_africa.csv` to see which is faster. Turns out the python method is faster, and even better, this method doesn't require that we edit the bash script every time in order to change which files we want to use as inputs."
   ]
  },
  {
   "cell_type": "markdown",
   "metadata": {},
   "source": [
    "## Program flags\n",
    "Let's change our program so it can take a flag to indicate that we want to run it for every data set in the current directory."
   ]
  },
  {
   "cell_type": "markdown",
   "metadata": {},
   "source": [
    "## Defensive programming\n",
    "- Check input arguments\n",
    "- Check for silent errors"
   ]
  },
  {
   "cell_type": "markdown",
   "metadata": {},
   "source": [
    "## Refactoring\n",
    "Breaking into 4 sections:\n",
    "- `parse_arguments()` to take the input and return the list of file names\n",
    "- `create_plot()` takes a single file name and writes a plot to the figs folder\n",
    "- `create_plots()` takes a list of files and calls `create_plot()` for each element in the list\n",
    "- `main()` calls `parse_argument()` and `create_plots()`"
   ]
  }
 ],
 "metadata": {
  "kernelspec": {
   "display_name": "Python 3",
   "language": "python",
   "name": "python3"
  },
  "language_info": {
   "codemirror_mode": {
    "name": "ipython",
    "version": 3
   },
   "file_extension": ".py",
   "mimetype": "text/x-python",
   "name": "python",
   "nbconvert_exporter": "python",
   "pygments_lexer": "ipython3",
   "version": "3.12.4"
  }
 },
 "nbformat": 4,
 "nbformat_minor": 2
}
