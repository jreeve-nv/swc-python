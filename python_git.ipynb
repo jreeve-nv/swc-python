{
 "cells": [
  {
   "cell_type": "markdown",
   "metadata": {},
   "source": [
    "# Workflows with Python and Git\n",
    "https://carpentries-incubator.github.io/swc-ext-python/\n",
    "\n",
    "Using gapminder dataset"
   ]
  },
  {
   "cell_type": "markdown",
   "metadata": {},
   "source": [
    "## Review exercise"
   ]
  },
  {
   "cell_type": "code",
   "execution_count": 2,
   "metadata": {},
   "outputs": [
    {
     "name": "stdout",
     "output_type": "stream",
     "text": [
      "1928 is a leap year\n",
      "1950 is not a leap year\n",
      "1959 is not a leap year\n",
      "1972 is a leap year\n",
      "1990 is not a leap year\n"
     ]
    }
   ],
   "source": [
    "years = [1928, 1950, 1959, 1972, 1990]\n",
    "\n",
    "def leap_year(years):\n",
    "    for year in years:\n",
    "        if year % 4 == 0:\n",
    "            print(year, \"is a leap year\")\n",
    "        elif year % 4 != 0:\n",
    "            print(year, \"is not a leap year\")\n",
    "\n",
    "leap_year(years)"
   ]
  },
  {
   "cell_type": "markdown",
   "metadata": {},
   "source": [
    "## Command-line programs\n",
    "Running this stuff via separate scripts and command line."
   ]
  }
 ],
 "metadata": {
  "kernelspec": {
   "display_name": "Python 3",
   "language": "python",
   "name": "python3"
  },
  "language_info": {
   "codemirror_mode": {
    "name": "ipython",
    "version": 3
   },
   "file_extension": ".py",
   "mimetype": "text/x-python",
   "name": "python",
   "nbconvert_exporter": "python",
   "pygments_lexer": "ipython3",
   "version": "3.12.4"
  }
 },
 "nbformat": 4,
 "nbformat_minor": 2
}
